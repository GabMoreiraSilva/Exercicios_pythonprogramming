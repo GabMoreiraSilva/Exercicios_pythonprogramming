{
 "cells": [
  {
   "cell_type": "markdown",
   "id": "247d5042",
   "metadata": {},
   "source": [
    "# Regression com Machine Learning"
   ]
  },
  {
   "cell_type": "code",
   "execution_count": 8,
   "id": "ca2b04b4",
   "metadata": {},
   "outputs": [],
   "source": [
    "import numpy as np\n",
    "import pandas as pd\n",
    "import quandl, math, datetime, pickle, random\n",
    "import matplotlib.pyplot as plt\n",
    "\n",
    "from sklearn import preprocessing\n",
    "from sklearn.model_selection import train_test_split\n",
    "from sklearn.linear_model import LinearRegression\n",
    "from matplotlib import style\n",
    "from statistics import mean"
   ]
  },
  {
   "cell_type": "code",
   "execution_count": 11,
   "id": "cb9d9c85",
   "metadata": {},
   "outputs": [],
   "source": [
    "path = r'Dados_Modelos'"
   ]
  },
  {
   "cell_type": "code",
   "execution_count": 4,
   "id": "27c63323",
   "metadata": {},
   "outputs": [],
   "source": [
    "df = quandl.get(\"WIKI/GOOGL\")"
   ]
  },
  {
   "cell_type": "code",
   "execution_count": 5,
   "id": "14102c09",
   "metadata": {},
   "outputs": [
    {
     "data": {
      "text/html": [
       "<div>\n",
       "<style scoped>\n",
       "    .dataframe tbody tr th:only-of-type {\n",
       "        vertical-align: middle;\n",
       "    }\n",
       "\n",
       "    .dataframe tbody tr th {\n",
       "        vertical-align: top;\n",
       "    }\n",
       "\n",
       "    .dataframe thead th {\n",
       "        text-align: right;\n",
       "    }\n",
       "</style>\n",
       "<table border=\"1\" class=\"dataframe\">\n",
       "  <thead>\n",
       "    <tr style=\"text-align: right;\">\n",
       "      <th></th>\n",
       "      <th>Open</th>\n",
       "      <th>High</th>\n",
       "      <th>Low</th>\n",
       "      <th>Close</th>\n",
       "      <th>Volume</th>\n",
       "      <th>Ex-Dividend</th>\n",
       "      <th>Split Ratio</th>\n",
       "      <th>Adj. Open</th>\n",
       "      <th>Adj. High</th>\n",
       "      <th>Adj. Low</th>\n",
       "      <th>Adj. Close</th>\n",
       "      <th>Adj. Volume</th>\n",
       "    </tr>\n",
       "    <tr>\n",
       "      <th>Date</th>\n",
       "      <th></th>\n",
       "      <th></th>\n",
       "      <th></th>\n",
       "      <th></th>\n",
       "      <th></th>\n",
       "      <th></th>\n",
       "      <th></th>\n",
       "      <th></th>\n",
       "      <th></th>\n",
       "      <th></th>\n",
       "      <th></th>\n",
       "      <th></th>\n",
       "    </tr>\n",
       "  </thead>\n",
       "  <tbody>\n",
       "    <tr>\n",
       "      <th>2004-08-19</th>\n",
       "      <td>100.01</td>\n",
       "      <td>104.06</td>\n",
       "      <td>95.96</td>\n",
       "      <td>100.335</td>\n",
       "      <td>44659000.0</td>\n",
       "      <td>0.0</td>\n",
       "      <td>1.0</td>\n",
       "      <td>50.159839</td>\n",
       "      <td>52.191109</td>\n",
       "      <td>48.128568</td>\n",
       "      <td>50.322842</td>\n",
       "      <td>44659000.0</td>\n",
       "    </tr>\n",
       "    <tr>\n",
       "      <th>2004-08-20</th>\n",
       "      <td>101.01</td>\n",
       "      <td>109.08</td>\n",
       "      <td>100.50</td>\n",
       "      <td>108.310</td>\n",
       "      <td>22834300.0</td>\n",
       "      <td>0.0</td>\n",
       "      <td>1.0</td>\n",
       "      <td>50.661387</td>\n",
       "      <td>54.708881</td>\n",
       "      <td>50.405597</td>\n",
       "      <td>54.322689</td>\n",
       "      <td>22834300.0</td>\n",
       "    </tr>\n",
       "    <tr>\n",
       "      <th>2004-08-23</th>\n",
       "      <td>110.76</td>\n",
       "      <td>113.48</td>\n",
       "      <td>109.05</td>\n",
       "      <td>109.400</td>\n",
       "      <td>18256100.0</td>\n",
       "      <td>0.0</td>\n",
       "      <td>1.0</td>\n",
       "      <td>55.551482</td>\n",
       "      <td>56.915693</td>\n",
       "      <td>54.693835</td>\n",
       "      <td>54.869377</td>\n",
       "      <td>18256100.0</td>\n",
       "    </tr>\n",
       "    <tr>\n",
       "      <th>2004-08-24</th>\n",
       "      <td>111.24</td>\n",
       "      <td>111.60</td>\n",
       "      <td>103.57</td>\n",
       "      <td>104.870</td>\n",
       "      <td>15247300.0</td>\n",
       "      <td>0.0</td>\n",
       "      <td>1.0</td>\n",
       "      <td>55.792225</td>\n",
       "      <td>55.972783</td>\n",
       "      <td>51.945350</td>\n",
       "      <td>52.597363</td>\n",
       "      <td>15247300.0</td>\n",
       "    </tr>\n",
       "    <tr>\n",
       "      <th>2004-08-25</th>\n",
       "      <td>104.76</td>\n",
       "      <td>108.00</td>\n",
       "      <td>103.88</td>\n",
       "      <td>106.000</td>\n",
       "      <td>9188600.0</td>\n",
       "      <td>0.0</td>\n",
       "      <td>1.0</td>\n",
       "      <td>52.542193</td>\n",
       "      <td>54.167209</td>\n",
       "      <td>52.100830</td>\n",
       "      <td>53.164113</td>\n",
       "      <td>9188600.0</td>\n",
       "    </tr>\n",
       "  </tbody>\n",
       "</table>\n",
       "</div>"
      ],
      "text/plain": [
       "              Open    High     Low    Close      Volume  Ex-Dividend  \\\n",
       "Date                                                                   \n",
       "2004-08-19  100.01  104.06   95.96  100.335  44659000.0          0.0   \n",
       "2004-08-20  101.01  109.08  100.50  108.310  22834300.0          0.0   \n",
       "2004-08-23  110.76  113.48  109.05  109.400  18256100.0          0.0   \n",
       "2004-08-24  111.24  111.60  103.57  104.870  15247300.0          0.0   \n",
       "2004-08-25  104.76  108.00  103.88  106.000   9188600.0          0.0   \n",
       "\n",
       "            Split Ratio  Adj. Open  Adj. High   Adj. Low  Adj. Close  \\\n",
       "Date                                                                   \n",
       "2004-08-19          1.0  50.159839  52.191109  48.128568   50.322842   \n",
       "2004-08-20          1.0  50.661387  54.708881  50.405597   54.322689   \n",
       "2004-08-23          1.0  55.551482  56.915693  54.693835   54.869377   \n",
       "2004-08-24          1.0  55.792225  55.972783  51.945350   52.597363   \n",
       "2004-08-25          1.0  52.542193  54.167209  52.100830   53.164113   \n",
       "\n",
       "            Adj. Volume  \n",
       "Date                     \n",
       "2004-08-19   44659000.0  \n",
       "2004-08-20   22834300.0  \n",
       "2004-08-23   18256100.0  \n",
       "2004-08-24   15247300.0  \n",
       "2004-08-25    9188600.0  "
      ]
     },
     "execution_count": 5,
     "metadata": {},
     "output_type": "execute_result"
    }
   ],
   "source": [
    "df.head()"
   ]
  },
  {
   "cell_type": "code",
   "execution_count": 6,
   "id": "54b0a0e3",
   "metadata": {},
   "outputs": [],
   "source": [
    "df = df[['Adj. Open',  'Adj. High',  'Adj. Low',  'Adj. Close', 'Adj. Volume']]\n",
    "df['HL_PCT'] = (df['Adj. High'] - df['Adj. Close']) / df['Adj. Close'] * 100\n",
    "df['PCT_change'] = (df['Adj. Close'] - df['Adj. Open']) / df['Adj. Open'] * 100"
   ]
  },
  {
   "cell_type": "code",
   "execution_count": 7,
   "id": "9abff982",
   "metadata": {},
   "outputs": [
    {
     "data": {
      "text/html": [
       "<div>\n",
       "<style scoped>\n",
       "    .dataframe tbody tr th:only-of-type {\n",
       "        vertical-align: middle;\n",
       "    }\n",
       "\n",
       "    .dataframe tbody tr th {\n",
       "        vertical-align: top;\n",
       "    }\n",
       "\n",
       "    .dataframe thead th {\n",
       "        text-align: right;\n",
       "    }\n",
       "</style>\n",
       "<table border=\"1\" class=\"dataframe\">\n",
       "  <thead>\n",
       "    <tr style=\"text-align: right;\">\n",
       "      <th></th>\n",
       "      <th>Adj. Open</th>\n",
       "      <th>Adj. High</th>\n",
       "      <th>Adj. Low</th>\n",
       "      <th>Adj. Close</th>\n",
       "      <th>Adj. Volume</th>\n",
       "      <th>HL_PCT</th>\n",
       "      <th>PCT_change</th>\n",
       "    </tr>\n",
       "    <tr>\n",
       "      <th>Date</th>\n",
       "      <th></th>\n",
       "      <th></th>\n",
       "      <th></th>\n",
       "      <th></th>\n",
       "      <th></th>\n",
       "      <th></th>\n",
       "      <th></th>\n",
       "    </tr>\n",
       "  </thead>\n",
       "  <tbody>\n",
       "    <tr>\n",
       "      <th>2004-08-19</th>\n",
       "      <td>50.159839</td>\n",
       "      <td>52.191109</td>\n",
       "      <td>48.128568</td>\n",
       "      <td>50.322842</td>\n",
       "      <td>44659000.0</td>\n",
       "      <td>3.712563</td>\n",
       "      <td>0.324968</td>\n",
       "    </tr>\n",
       "    <tr>\n",
       "      <th>2004-08-20</th>\n",
       "      <td>50.661387</td>\n",
       "      <td>54.708881</td>\n",
       "      <td>50.405597</td>\n",
       "      <td>54.322689</td>\n",
       "      <td>22834300.0</td>\n",
       "      <td>0.710922</td>\n",
       "      <td>7.227007</td>\n",
       "    </tr>\n",
       "    <tr>\n",
       "      <th>2004-08-23</th>\n",
       "      <td>55.551482</td>\n",
       "      <td>56.915693</td>\n",
       "      <td>54.693835</td>\n",
       "      <td>54.869377</td>\n",
       "      <td>18256100.0</td>\n",
       "      <td>3.729433</td>\n",
       "      <td>-1.227880</td>\n",
       "    </tr>\n",
       "    <tr>\n",
       "      <th>2004-08-24</th>\n",
       "      <td>55.792225</td>\n",
       "      <td>55.972783</td>\n",
       "      <td>51.945350</td>\n",
       "      <td>52.597363</td>\n",
       "      <td>15247300.0</td>\n",
       "      <td>6.417469</td>\n",
       "      <td>-5.726357</td>\n",
       "    </tr>\n",
       "    <tr>\n",
       "      <th>2004-08-25</th>\n",
       "      <td>52.542193</td>\n",
       "      <td>54.167209</td>\n",
       "      <td>52.100830</td>\n",
       "      <td>53.164113</td>\n",
       "      <td>9188600.0</td>\n",
       "      <td>1.886792</td>\n",
       "      <td>1.183658</td>\n",
       "    </tr>\n",
       "  </tbody>\n",
       "</table>\n",
       "</div>"
      ],
      "text/plain": [
       "            Adj. Open  Adj. High   Adj. Low  Adj. Close  Adj. Volume  \\\n",
       "Date                                                                   \n",
       "2004-08-19  50.159839  52.191109  48.128568   50.322842   44659000.0   \n",
       "2004-08-20  50.661387  54.708881  50.405597   54.322689   22834300.0   \n",
       "2004-08-23  55.551482  56.915693  54.693835   54.869377   18256100.0   \n",
       "2004-08-24  55.792225  55.972783  51.945350   52.597363   15247300.0   \n",
       "2004-08-25  52.542193  54.167209  52.100830   53.164113    9188600.0   \n",
       "\n",
       "              HL_PCT  PCT_change  \n",
       "Date                              \n",
       "2004-08-19  3.712563    0.324968  \n",
       "2004-08-20  0.710922    7.227007  \n",
       "2004-08-23  3.729433   -1.227880  \n",
       "2004-08-24  6.417469   -5.726357  \n",
       "2004-08-25  1.886792    1.183658  "
      ]
     },
     "execution_count": 7,
     "metadata": {},
     "output_type": "execute_result"
    }
   ],
   "source": [
    "df.head()"
   ]
  },
  {
   "cell_type": "code",
   "execution_count": 8,
   "id": "541af3ad",
   "metadata": {},
   "outputs": [
    {
     "data": {
      "text/html": [
       "<div>\n",
       "<style scoped>\n",
       "    .dataframe tbody tr th:only-of-type {\n",
       "        vertical-align: middle;\n",
       "    }\n",
       "\n",
       "    .dataframe tbody tr th {\n",
       "        vertical-align: top;\n",
       "    }\n",
       "\n",
       "    .dataframe thead th {\n",
       "        text-align: right;\n",
       "    }\n",
       "</style>\n",
       "<table border=\"1\" class=\"dataframe\">\n",
       "  <thead>\n",
       "    <tr style=\"text-align: right;\">\n",
       "      <th></th>\n",
       "      <th>Adj. Close</th>\n",
       "      <th>HL_PCT</th>\n",
       "      <th>PCT_change</th>\n",
       "      <th>Adj. Volume</th>\n",
       "    </tr>\n",
       "    <tr>\n",
       "      <th>Date</th>\n",
       "      <th></th>\n",
       "      <th></th>\n",
       "      <th></th>\n",
       "      <th></th>\n",
       "    </tr>\n",
       "  </thead>\n",
       "  <tbody>\n",
       "    <tr>\n",
       "      <th>2004-08-19</th>\n",
       "      <td>50.322842</td>\n",
       "      <td>3.712563</td>\n",
       "      <td>0.324968</td>\n",
       "      <td>44659000.0</td>\n",
       "    </tr>\n",
       "    <tr>\n",
       "      <th>2004-08-20</th>\n",
       "      <td>54.322689</td>\n",
       "      <td>0.710922</td>\n",
       "      <td>7.227007</td>\n",
       "      <td>22834300.0</td>\n",
       "    </tr>\n",
       "    <tr>\n",
       "      <th>2004-08-23</th>\n",
       "      <td>54.869377</td>\n",
       "      <td>3.729433</td>\n",
       "      <td>-1.227880</td>\n",
       "      <td>18256100.0</td>\n",
       "    </tr>\n",
       "    <tr>\n",
       "      <th>2004-08-24</th>\n",
       "      <td>52.597363</td>\n",
       "      <td>6.417469</td>\n",
       "      <td>-5.726357</td>\n",
       "      <td>15247300.0</td>\n",
       "    </tr>\n",
       "    <tr>\n",
       "      <th>2004-08-25</th>\n",
       "      <td>53.164113</td>\n",
       "      <td>1.886792</td>\n",
       "      <td>1.183658</td>\n",
       "      <td>9188600.0</td>\n",
       "    </tr>\n",
       "  </tbody>\n",
       "</table>\n",
       "</div>"
      ],
      "text/plain": [
       "            Adj. Close    HL_PCT  PCT_change  Adj. Volume\n",
       "Date                                                     \n",
       "2004-08-19   50.322842  3.712563    0.324968   44659000.0\n",
       "2004-08-20   54.322689  0.710922    7.227007   22834300.0\n",
       "2004-08-23   54.869377  3.729433   -1.227880   18256100.0\n",
       "2004-08-24   52.597363  6.417469   -5.726357   15247300.0\n",
       "2004-08-25   53.164113  1.886792    1.183658    9188600.0"
      ]
     },
     "execution_count": 8,
     "metadata": {},
     "output_type": "execute_result"
    }
   ],
   "source": [
    "df = df[['Adj. Close', 'HL_PCT', 'PCT_change', 'Adj. Volume']]\n",
    "df.head()"
   ]
  },
  {
   "cell_type": "code",
   "execution_count": 9,
   "id": "8fee97e0",
   "metadata": {},
   "outputs": [
    {
     "name": "stderr",
     "output_type": "stream",
     "text": [
      "C:\\Users\\Gabriel\\AppData\\Local\\Temp/ipykernel_11368/1494174567.py:6: FutureWarning: In a future version of pandas all arguments of DataFrame.drop except for the argument 'labels' will be keyword-only\n",
      "  X = np.array(df.drop(['label'], 1))\n"
     ]
    }
   ],
   "source": [
    "forecast_col = 'Adj. Close'\n",
    "df.fillna(value=-99999, inplace=True)\n",
    "forecast_out = int(math.ceil(0.01 * len(df)))\n",
    "df['label'] = df[forecast_col].shift(-forecast_out)\n",
    "\n",
    "X = np.array(df.drop(['label'], 1))\n",
    "X = preprocessing.scale(X)\n",
    "X_lately = X[-forecast_out:]\n",
    "X = X[:-forecast_out]\n",
    "\n",
    "df.dropna(inplace=True)\n",
    "\n",
    "y = np.array(df['label'])\n"
   ]
  },
  {
   "cell_type": "code",
   "execution_count": 10,
   "id": "0230e116",
   "metadata": {},
   "outputs": [],
   "source": [
    "X_train, X_test, y_train, y_test = train_test_split(X, y, test_size=0.2,random_state=101)"
   ]
  },
  {
   "cell_type": "code",
   "execution_count": 11,
   "id": "1e39cc6d",
   "metadata": {},
   "outputs": [],
   "source": [
    "clf = LinearRegression()"
   ]
  },
  {
   "cell_type": "code",
   "execution_count": 12,
   "id": "4a9accbd",
   "metadata": {},
   "outputs": [
    {
     "data": {
      "text/plain": [
       "LinearRegression()"
      ]
     },
     "execution_count": 12,
     "metadata": {},
     "output_type": "execute_result"
    }
   ],
   "source": [
    "clf.fit(X_train,y_train)"
   ]
  },
  {
   "cell_type": "code",
   "execution_count": 13,
   "id": "624354dc",
   "metadata": {},
   "outputs": [],
   "source": [
    "confidence = clf.score(X_test,y_test)"
   ]
  },
  {
   "cell_type": "code",
   "execution_count": 14,
   "id": "eaa7bdde",
   "metadata": {},
   "outputs": [],
   "source": [
    "forecast_set = clf.predict(X_lately)"
   ]
  },
  {
   "cell_type": "code",
   "execution_count": 15,
   "id": "38b05478",
   "metadata": {},
   "outputs": [
    {
     "name": "stdout",
     "output_type": "stream",
     "text": [
      "[1101.89517255 1070.99598283 1017.25009248 1060.26038099 1072.09449882\n",
      " 1072.4619508  1091.3030671  1110.41340245 1113.40873962 1121.53814754\n",
      " 1130.61148903 1128.0251239  1147.85169507 1163.51527965 1134.42871669\n",
      " 1120.79820479 1086.16518943 1102.53454868 1113.35101814 1120.18112045\n",
      " 1134.31383401 1148.87200853 1180.47416672 1184.56520255 1155.82040873\n",
      " 1167.51215515 1169.3045821  1151.75718281 1117.22289561 1113.92627515\n",
      " 1111.66850621 1068.40948259 1040.55881252 1072.09306625 1018.79966008] 0.9791561590665951 35\n"
     ]
    }
   ],
   "source": [
    "print(forecast_set, confidence, forecast_out)"
   ]
  },
  {
   "cell_type": "code",
   "execution_count": 16,
   "id": "a61c5887",
   "metadata": {},
   "outputs": [],
   "source": [
    "style.use('ggplot')"
   ]
  },
  {
   "cell_type": "code",
   "execution_count": 17,
   "id": "217279bb",
   "metadata": {},
   "outputs": [],
   "source": [
    "df['Forecast'] = np.nan"
   ]
  },
  {
   "cell_type": "code",
   "execution_count": 18,
   "id": "7badc17d",
   "metadata": {},
   "outputs": [],
   "source": [
    "last_date = df.iloc[-1].name\n",
    "last_unix = last_date.timestamp()\n",
    "one_day = 86400\n",
    "next_unix = last_unix + one_day"
   ]
  },
  {
   "cell_type": "code",
   "execution_count": 19,
   "id": "6cfca260",
   "metadata": {},
   "outputs": [],
   "source": [
    "for i in forecast_set:\n",
    "    next_date = datetime.datetime.fromtimestamp(next_unix)\n",
    "    next_unix += 86400\n",
    "    df.loc[next_date] = [np.nan for _ in range(len(df.columns)-1)]+[i]"
   ]
  },
  {
   "cell_type": "code",
   "execution_count": 20,
   "id": "1705038a",
   "metadata": {},
   "outputs": [
    {
     "data": {
      "image/png": "[encoded data removed]",
      "text/plain": [
       "<Figure size 432x288 with 1 Axes>"
      ]
     },
     "metadata": {},
     "output_type": "display_data"
    }
   ],
   "source": [
    "df['Adj. Close'].plot()\n",
    "df['Forecast'].plot()\n",
    "plt.legend(loc=4)\n",
    "plt.xlabel('Date')\n",
    "plt.ylabel('Price')\n",
    "plt.show()"
   ]
  },
  {
   "cell_type": "markdown",
   "id": "2ae57f09",
   "metadata": {},
   "source": [
    "## Salvando e lendo com Pickle"
   ]
  },
  {
   "cell_type": "code",
   "execution_count": 5,
   "id": "7b37a15c",
   "metadata": {},
   "outputs": [
    {
     "ename": "FileNotFoundError",
     "evalue": "[Errno 2] No such file or directory: 'Dados_Modelos\\\\classificar\\\\Modelos\\\\linearregression.pickle'",
     "output_type": "error",
     "traceback": [
      "\u001b[1;31m---------------------------------------------------------------------------\u001b[0m",
      "\u001b[1;31mFileNotFoundError\u001b[0m                         Traceback (most recent call last)",
      "\u001b[1;32m~\\AppData\\Local\\Temp/ipykernel_3988/2402063831.py\u001b[0m in \u001b[0;36m<module>\u001b[1;34m\u001b[0m\n\u001b[1;32m----> 1\u001b[1;33m \u001b[1;32mwith\u001b[0m \u001b[0mopen\u001b[0m\u001b[1;33m(\u001b[0m\u001b[0mpath\u001b[0m \u001b[1;33m+\u001b[0m \u001b[1;34m'\\Modelos\\linearregression.pickle'\u001b[0m\u001b[1;33m,\u001b[0m\u001b[1;34m'wb'\u001b[0m\u001b[1;33m)\u001b[0m \u001b[1;32mas\u001b[0m \u001b[0mf\u001b[0m\u001b[1;33m:\u001b[0m\u001b[1;33m\u001b[0m\u001b[1;33m\u001b[0m\u001b[0m\n\u001b[0m\u001b[0;32m      2\u001b[0m     \u001b[0mpickle\u001b[0m\u001b[1;33m.\u001b[0m\u001b[0mdump\u001b[0m\u001b[1;33m(\u001b[0m\u001b[0mclf\u001b[0m\u001b[1;33m,\u001b[0m \u001b[0mf\u001b[0m\u001b[1;33m)\u001b[0m\u001b[1;33m\u001b[0m\u001b[1;33m\u001b[0m\u001b[0m\n",
      "\u001b[1;31mFileNotFoundError\u001b[0m: [Errno 2] No such file or directory: 'Dados_Modelos\\\\classificar\\\\Modelos\\\\linearregression.pickle'"
     ]
    }
   ],
   "source": [
    "with open(path + '\\Modelos\\linearregression.pickle','wb') as f:\n",
    "    pickle.dump(clf, f)"
   ]
  },
  {
   "cell_type": "code",
   "execution_count": 13,
   "id": "67055b44",
   "metadata": {},
   "outputs": [],
   "source": [
    "pickle_in = open(path + '\\Modelos\\linearregression.pickle','rb')\n",
    "clf = pickle.load(pickle_in)"
   ]
  },
  {
   "cell_type": "code",
   "execution_count": 14,
   "id": "d25c2a79",
   "metadata": {},
   "outputs": [
    {
     "ename": "NameError",
     "evalue": "name 'X_lately' is not defined",
     "output_type": "error",
     "traceback": [
      "\u001b[1;31m---------------------------------------------------------------------------\u001b[0m",
      "\u001b[1;31mNameError\u001b[0m                                 Traceback (most recent call last)",
      "\u001b[1;32m~\\AppData\\Local\\Temp/ipykernel_3988/3704110933.py\u001b[0m in \u001b[0;36m<module>\u001b[1;34m\u001b[0m\n\u001b[1;32m----> 1\u001b[1;33m \u001b[0mforecast_set\u001b[0m \u001b[1;33m=\u001b[0m \u001b[0mclf\u001b[0m\u001b[1;33m.\u001b[0m\u001b[0mpredict\u001b[0m\u001b[1;33m(\u001b[0m\u001b[0mX_lately\u001b[0m\u001b[1;33m)\u001b[0m\u001b[1;33m\u001b[0m\u001b[1;33m\u001b[0m\u001b[0m\n\u001b[0m\u001b[0;32m      2\u001b[0m \u001b[0mdf\u001b[0m\u001b[1;33m[\u001b[0m\u001b[1;34m'Forecast'\u001b[0m\u001b[1;33m]\u001b[0m \u001b[1;33m=\u001b[0m \u001b[0mnp\u001b[0m\u001b[1;33m.\u001b[0m\u001b[0mnan\u001b[0m\u001b[1;33m\u001b[0m\u001b[1;33m\u001b[0m\u001b[0m\n\u001b[0;32m      3\u001b[0m \u001b[1;33m\u001b[0m\u001b[0m\n\u001b[0;32m      4\u001b[0m \u001b[0mlast_date\u001b[0m \u001b[1;33m=\u001b[0m \u001b[0mdf\u001b[0m\u001b[1;33m.\u001b[0m\u001b[0miloc\u001b[0m\u001b[1;33m[\u001b[0m\u001b[1;33m-\u001b[0m\u001b[1;36m1\u001b[0m\u001b[1;33m]\u001b[0m\u001b[1;33m.\u001b[0m\u001b[0mname\u001b[0m\u001b[1;33m\u001b[0m\u001b[1;33m\u001b[0m\u001b[0m\n\u001b[0;32m      5\u001b[0m \u001b[0mlast_unix\u001b[0m \u001b[1;33m=\u001b[0m \u001b[0mlast_date\u001b[0m\u001b[1;33m.\u001b[0m\u001b[0mtimestamp\u001b[0m\u001b[1;33m(\u001b[0m\u001b[1;33m)\u001b[0m\u001b[1;33m\u001b[0m\u001b[1;33m\u001b[0m\u001b[0m\n",
      "\u001b[1;31mNameError\u001b[0m: name 'X_lately' is not defined"
     ]
    }
   ],
   "source": [
    "forecast_set = clf.predict(X_lately)\n",
    "df['Forecast'] = np.nan\n",
    "\n",
    "last_date = df.iloc[-1].name\n",
    "last_unix = last_date.timestamp()\n",
    "one_day = 86400\n",
    "next_unix = last_unix + one_day\n",
    "\n",
    "for i in forecast_set:\n",
    "    next_date = datetime.datetime.fromtimestamp(next_unix)\n",
    "    next_unix += 86400\n",
    "    df.loc[next_date] = [np.nan for _ in range(len(df.columns)-1)]+[i]"
   ]
  },
  {
   "cell_type": "code",
   "execution_count": 31,
   "id": "6c14b1c0",
   "metadata": {},
   "outputs": [],
   "source": [
    "df_2018 = df[df.index > '2017']"
   ]
  },
  {
   "cell_type": "code",
   "execution_count": 32,
   "id": "8cd22996",
   "metadata": {},
   "outputs": [
    {
     "data": {
      "image/png": "[encoded data removed]",
      "text/plain": [
       "<Figure size 432x288 with 1 Axes>"
      ]
     },
     "metadata": {},
     "output_type": "display_data"
    }
   ],
   "source": [
    "df_2018['Adj. Close'].plot()\n",
    "df_2018['Forecast'].plot()\n",
    "plt.legend(loc=4)\n",
    "plt.xlabel('Date')\n",
    "plt.ylabel('Price')\n",
    "plt.show()"
   ]
  },
  {
   "cell_type": "markdown",
   "id": "9461ecd5",
   "metadata": {},
   "source": [
    "## Calculando o melhor coeficiente angular"
   ]
  },
  {
   "cell_type": "code",
   "execution_count": 97,
   "id": "019fc062",
   "metadata": {},
   "outputs": [],
   "source": [
    "xs = np.array([1,2,3,4,5], dtype=np.float64)\n",
    "ys = np.array([5,4,6,5,6], dtype=np.float64)"
   ]
  },
  {
   "cell_type": "code",
   "execution_count": 98,
   "id": "ec825835",
   "metadata": {},
   "outputs": [],
   "source": [
    "def best_fit_slope_and_intercept(xs,ys):\n",
    "    m = (((mean(xs)*mean(ys)) - mean(xs*ys)) /\n",
    "         ((mean(xs)*mean(xs)) - mean(xs*xs)))\n",
    "    \n",
    "    b = mean(ys) - m*mean(xs)\n",
    "    \n",
    "    return m, b\n",
    "\n",
    "def create_dataset(hm,variance,step=2,correlation=False):\n",
    "    val = 1\n",
    "    ys = []\n",
    "    for i in range(hm):\n",
    "        y = val + random.randrange(-variance,variance)\n",
    "        ys.append(y)\n",
    "        if correlation and correlation == 'pos':\n",
    "            val+=step\n",
    "        elif correlation and correlation == 'neg':\n",
    "            val-=step\n",
    "\n",
    "    xs = [i for i in range(len(ys))]\n",
    "    \n",
    "    return np.array(xs, dtype=np.float64),np.array(ys,dtype=np.float64)\n",
    "\n",
    "\n",
    "def squared_error(ys_orig,ys_line):\n",
    "    return sum((ys_line - ys_orig) * (ys_line - ys_orig))\n",
    "\n",
    "def coefficient_of_determination(ys_orig,ys_line):\n",
    "    y_mean_line = [mean(ys_orig) for y in ys_orig]\n",
    "    squared_error_regr = squared_error(ys_orig, ys_line)\n",
    "    squared_error_y_mean = squared_error(ys_orig, y_mean_line)\n",
    "    return 1 - (squared_error_regr/squared_error_y_mean)\n",
    "    "
   ]
  },
  {
   "cell_type": "code",
   "execution_count": 99,
   "id": "df82eeb7",
   "metadata": {},
   "outputs": [],
   "source": [
    "m, b = best_fit_slope_and_intercept(xs,ys)\n",
    "regression_line = [(m*x)+b for x in xs]"
   ]
  },
  {
   "cell_type": "code",
   "execution_count": 100,
   "id": "d8fbb1f3",
   "metadata": {},
   "outputs": [
    {
     "data": {
      "text/plain": [
       "0.3214285714285714"
      ]
     },
     "execution_count": 100,
     "metadata": {},
     "output_type": "execute_result"
    }
   ],
   "source": [
    "r_squared = coefficient_of_determination(ys,regression_line)\n",
    "r_squared"
   ]
  },
  {
   "cell_type": "code",
   "execution_count": 101,
   "id": "7e079fb7",
   "metadata": {},
   "outputs": [
    {
     "name": "stdout",
     "output_type": "stream",
     "text": [
      "6.399999999999996\n"
     ]
    }
   ],
   "source": [
    "predict_x = 7\n",
    "predict_y = (m*predict_x)+b\n",
    "print(predict_y)"
   ]
  },
  {
   "cell_type": "code",
   "execution_count": 102,
   "id": "63332276",
   "metadata": {},
   "outputs": [
    {
     "data": {
      "image/png": "[encoded data removed]",
      "text/plain": [
       "<Figure size 432x288 with 1 Axes>"
      ]
     },
     "metadata": {},
     "output_type": "display_data"
    }
   ],
   "source": [
    "plt.scatter(xs,ys,color='#003F72', label = 'data')\n",
    "plt.scatter(predict_x,predict_y,color='r', label = 'prediction')\n",
    "plt.plot(xs, regression_line, label = 'regression line')\n",
    "plt.legend(loc=4)\n",
    "plt.show()"
   ]
  },
  {
   "cell_type": "markdown",
   "id": "e9d3243e",
   "metadata": {},
   "source": [
    "## Amostra de um banco de dados"
   ]
  },
  {
   "cell_type": "code",
   "execution_count": 103,
   "id": "0bae8d0d",
   "metadata": {},
   "outputs": [
    {
     "name": "stdout",
     "output_type": "stream",
     "text": [
      "0.7901049483983436\n"
     ]
    }
   ],
   "source": [
    "xs, ys = create_dataset(40,20,2,correlation='pos')\n",
    "m, b = best_fit_slope_and_intercept(xs,ys)\n",
    "regression_line = [(m*x)+b for x in xs]\n",
    "r_squared = coefficient_of_determination(ys,regression_line)\n",
    "print(r_squared)"
   ]
  },
  {
   "cell_type": "code",
   "execution_count": 104,
   "id": "537e5d29",
   "metadata": {},
   "outputs": [
    {
     "data": {
      "image/png": "[encoded data removed]",
      "text/plain": [
       "<Figure size 432x288 with 1 Axes>"
      ]
     },
     "metadata": {},
     "output_type": "display_data"
    }
   ],
   "source": [
    "plt.scatter(xs,ys,color='#003F72', label = 'data')\n",
    "plt.plot(xs, regression_line, label = 'regression line')\n",
    "plt.legend(loc=4)\n",
    "plt.show()"
   ]
  },
  {
   "cell_type": "code",
   "execution_count": null,
   "id": "2355e545",
   "metadata": {},
   "outputs": [],
   "source": []
  },
  {
   "cell_type": "code",
   "execution_count": null,
   "id": "a9e0aa00",
   "metadata": {},
   "outputs": [],
   "source": []
  }
 ],
 "metadata": {
  "kernelspec": {
   "display_name": "Python 3 (ipykernel)",
   "language": "python",
   "name": "python3"
  },
  "language_info": {
   "codemirror_mode": {
    "name": "ipython",
    "version": 3
   },
   "file_extension": ".py",
   "mimetype": "text/x-python",
   "name": "python",
   "nbconvert_exporter": "python",
   "pygments_lexer": "ipython3",
   "version": "3.8.12"
  }
 },
 "nbformat": 4,
 "nbformat_minor": 5
}
